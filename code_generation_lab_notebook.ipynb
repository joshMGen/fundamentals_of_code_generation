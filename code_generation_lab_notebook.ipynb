{
 "cells": [
  {
   "cell_type": "code",
   "execution_count": 1,
   "metadata": {},
   "outputs": [],
   "source": [
    "from gpt4all import GPT4All"
   ]
  },
  {
   "cell_type": "code",
   "execution_count": 4,
   "metadata": {},
   "outputs": [],
   "source": [
    "# rift_model = GPT4All(r\"/home/pslearner/LLM_models/rift-coder-v0-7b-q4_0.gguf\")\n",
    "rift_model = GPT4All(r\"C:\\Users\\JoshMeier\\Downloads\\rift-coder-v0-7b-q4_0.gguf\")"
   ]
  },
  {
   "cell_type": "markdown",
   "metadata": {},
   "source": [
    "# Code generations with LLM's"
   ]
  },
  {
   "cell_type": "markdown",
   "metadata": {},
   "source": [
    "# Guided prompt engineering for code generation"
   ]
  },
  {
   "cell_type": "code",
   "execution_count": 18,
   "metadata": {},
   "outputs": [
    {
     "name": "stdout",
     "output_type": "stream",
     "text": [
      "{'role': 'system', 'content': 'You are a helpful AI that returns code of what was asked in python.Without defining any of the code as a function and as simple as possible'}\n",
      "{'role': 'user', 'content': 'write a for loop that add numbers to a list if they are even'}\n",
      "{'role': 'assistant', 'content': \"```python\\nfor i in range(1, 20):\\n    if i % 2 == 0:\\n        evens.append(i)\\n```\\nThe assistant's code adds the first 20 integers to\"}\n"
     ]
    }
   ],
   "source": [
    "with rift_model.chat_session(system_prompt=\"You are a helpful AI that returns code of what was asked in python.Without defining any of the code as a function and as simple as possible\"):\n",
    "    response = rift_model.generate(prompt= \"write a for loop that add numbers to a list if they are even\", max_tokens=50, temp=0.1, streaming=False)\n",
    "    for x in rift_model.current_chat_session:\n",
    "        print(x)"
   ]
  },
  {
   "cell_type": "code",
   "execution_count": null,
   "metadata": {},
   "outputs": [],
   "source": [
    "# Example of a possible returned code\n",
    "for i in range(1, 20):\n",
    "    if i % 2 == 0:\n",
    "        num_list.append(i) #The code snippet adds the first 20 integers to `num'"
   ]
  },
  {
   "cell_type": "code",
   "execution_count": 23,
   "metadata": {},
   "outputs": [
    {
     "name": "stdout",
     "output_type": "stream",
     "text": [
      "{'role': 'system', 'content': 'You are a helpful AI that returns code of what was asked in python.Without defining any of the code as a function and as simple as possible'}\n",
      "{'role': 'user', 'content': \"initalize a empty list called 'best_numbers' then write a for loop that add numbers to 'best_numbers' if they are even\"}\n",
      "{'role': 'assistant', 'content': '```python\\ndef setUp(self):\\n        self.best_numbers = []\\n        \\n    def test_even_numbers(self) -> None:\\n        \"\"\"Test appending even numbers.\"\"\"\\n        for i in range'}\n"
     ]
    }
   ],
   "source": [
    "with rift_model.chat_session(system_prompt=\"You are a helpful AI that returns code of what was asked in python.Without defining any of the code as a function and as simple as possible\"):\n",
    "    response = rift_model.generate(prompt= \"initalize a empty list called 'best_numbers' then write a for loop that add numbers to 'best_numbers' if they are even\", max_tokens=50, temp=0.1, streaming=False)\n",
    "    for x in rift_model.current_chat_session:\n",
    "        print(x)"
   ]
  },
  {
   "cell_type": "code",
   "execution_count": 25,
   "metadata": {},
   "outputs": [
    {
     "name": "stdout",
     "output_type": "stream",
     "text": [
      "{'role': 'system', 'content': 'You are a helpful AI that returns code of what was asked in python.Without defining any of the code as a function and as simple as possible'}\n",
      "{'role': 'user', 'content': \"initalize a empty list called 'best_numbers' then write a for loop that add numbers to 'best_numbers' if they are even. Make sure this code is all within one function called 'even_grabber'\"}\n",
      "{'role': 'assistant', 'content': '\\n```python\\ndef even_grabber():\\n    best_numbers = []  # Initialize an empty list named \"best_numbers\"\\n    \\n    for i in range(1, 10):   # Create a loop that iterates from 2 to 10 (inclusive)\\n        num = i * 2  # Calculate the even number by multiplying the current iteration with 2\\n        best_numbers.append(num)   '}\n"
     ]
    }
   ],
   "source": [
    "with rift_model.chat_session(system_prompt=\"You are a helpful AI that returns code of what was asked in python.Without defining any of the code as a function and as simple as possible\"):\n",
    "    response = rift_model.generate(prompt= \"initalize a empty list called 'best_numbers' then write a for loop that add numbers to 'best_numbers' if they are even. Make sure this code is all within one function called 'even_grabber'\", max_tokens=100, temp=0.1, streaming=False)\n",
    "    for x in rift_model.current_chat_session:\n",
    "        print(x)"
   ]
  },
  {
   "cell_type": "code",
   "execution_count": null,
   "metadata": {},
   "outputs": [],
   "source": [
    "# Example of a possible returned code\n",
    "def even_grabber():\n",
    "    best_numbers = []  # Initialize an empty list named \"best_numbers\"\n",
    "    for i in range(1, 10):   # Create a loop that iterates from 2 to 10 (inclusive)\n",
    "        num = i * 2  # Calculate the even number by multiplying the current iteration with 2\n",
    "        best_numbers.append(num)"
   ]
  },
  {
   "cell_type": "code",
   "execution_count": 39,
   "metadata": {},
   "outputs": [
    {
     "name": "stdout",
     "output_type": "stream",
     "text": [
      "{'role': 'system', 'content': 'You are a helpful AI that returns code of what was asked in python.Without defining any of the code as a function and as simple as possible'}\n",
      "{'role': 'user', 'content': \"initalize a empty list called 'best_numbers' then write a for loop that takes two parameters for the range of min and max then add numbers to 'best_numbers' if they are even. Make sure this code is all within one function called 'even_grabber'\"}\n",
      "{'role': 'assistant', 'content': \"\\n```python\\ndef even_grabber(min, max):\\n    best_numbers = []\\n    \\n    for i in range(min, max+1, 2):\\n        best_numbers.append(i)\\n        \\n    return best_numbers\\n```\\nThe 'even_grabber' function initializes an empty list named 'best_numbers'. It then creates a loop using the range() function to iterate over all even numbers between two given\"}\n"
     ]
    }
   ],
   "source": [
    "with rift_model.chat_session(system_prompt=\"You are a helpful AI that returns code of what was asked in python.Without defining any of the code as a function and as simple as possible\"):\n",
    "    response = rift_model.generate(prompt= \"initalize a empty list called 'best_numbers' then write a for loop that takes two parameters for the range of min and max then add numbers to 'best_numbers' if they are even. Make sure this code is all within one function called 'even_grabber'\", max_tokens=100, temp=0.1, streaming=False)\n",
    "    for x in rift_model.current_chat_session:\n",
    "        print(x)"
   ]
  },
  {
   "cell_type": "code",
   "execution_count": null,
   "metadata": {},
   "outputs": [],
   "source": [
    "# Example of a possible returned code\n",
    "def even_grabber(min, max):\n",
    "    best_numbers = []\n",
    "    for i in range(min, max+1, 2):\n",
    "        best_numbers.append(i)\n",
    "    return best_numbers\n",
    "# The 'even_grabber' function initializes an empty list named 'best_numbers'. It then creates a loop using the range() function to iterate over all even numbers between two given"
   ]
  }
 ],
 "metadata": {
  "kernelspec": {
   "display_name": "Python 3",
   "language": "python",
   "name": "python3"
  },
  "language_info": {
   "codemirror_mode": {
    "name": "ipython",
    "version": 3
   },
   "file_extension": ".py",
   "mimetype": "text/x-python",
   "name": "python",
   "nbconvert_exporter": "python",
   "pygments_lexer": "ipython3",
   "version": "3.11.0"
  }
 },
 "nbformat": 4,
 "nbformat_minor": 2
}
